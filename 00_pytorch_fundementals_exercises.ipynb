{
 "cells": [
  {
   "cell_type": "code",
   "execution_count": 11,
   "id": "0f4f933c-8c7b-4e08-bc69-a5976fb5cbfd",
   "metadata": {},
   "outputs": [
    {
     "data": {
      "text/plain": [
       "tensor([[0.6581, 0.4913, 0.8913, 0.1447, 0.5315, 0.1587, 0.6542],\n",
       "        [0.3278, 0.6532, 0.3958, 0.9147, 0.2036, 0.2018, 0.2018],\n",
       "        [0.9497, 0.6666, 0.9811, 0.0874, 0.0041, 0.1088, 0.1637],\n",
       "        [0.7025, 0.6790, 0.9155, 0.2418, 0.1591, 0.7653, 0.2979],\n",
       "        [0.8035, 0.3813, 0.7860, 0.1115, 0.2477, 0.6524, 0.6057],\n",
       "        [0.3725, 0.7980, 0.8399, 0.1374, 0.2331, 0.9578, 0.3313],\n",
       "        [0.3227, 0.0162, 0.2137, 0.6249, 0.4340, 0.1371, 0.5117]])"
      ]
     },
     "execution_count": 11,
     "metadata": {},
     "output_type": "execute_result"
    }
   ],
   "source": [
    "# 2\n",
    "import torch\n",
    "X = torch.rand(7, 7)\n",
    "X"
   ]
  },
  {
   "cell_type": "code",
   "execution_count": 24,
   "id": "3143cfac-302f-44d6-9eba-110f0ffb707d",
   "metadata": {},
   "outputs": [
    {
     "data": {
      "text/plain": [
       "tensor([[0.3216, 0.5247, 0.6688, 0.8436, 0.4265, 0.9561, 0.0770]])"
      ]
     },
     "execution_count": 24,
     "metadata": {},
     "output_type": "execute_result"
    }
   ],
   "source": [
    "# 3\n",
    "Y = torch.rand(1, 7)\n",
    "Y"
   ]
  },
  {
   "cell_type": "code",
   "execution_count": 13,
   "id": "dead61f5-0c8f-4c12-af02-5b9feac8356f",
   "metadata": {},
   "outputs": [
    {
     "data": {
      "text/plain": [
       "tensor([[0.9949],\n",
       "        [0.6062],\n",
       "        [0.6337],\n",
       "        [1.3547],\n",
       "        [1.3971],\n",
       "        [1.5137],\n",
       "        [0.6594]])"
      ]
     },
     "execution_count": 13,
     "metadata": {},
     "output_type": "execute_result"
    }
   ],
   "source": [
    "torch.matmul(X, Y.T)"
   ]
  },
  {
   "cell_type": "code",
   "execution_count": 15,
   "id": "87094184-a225-4328-99cf-7c38c15720e9",
   "metadata": {},
   "outputs": [
    {
     "data": {
      "text/plain": [
       "tensor([[1.8542],\n",
       "        [1.9611],\n",
       "        [2.2884],\n",
       "        [3.0481],\n",
       "        [1.7067],\n",
       "        [2.5290],\n",
       "        [1.7989]])"
      ]
     },
     "execution_count": 15,
     "metadata": {},
     "output_type": "execute_result"
    }
   ],
   "source": [
    "# 4\n",
    "SEED = 0\n",
    "torch.manual_seed(SEED)\n",
    "X = torch.rand(7, 7)\n",
    "Y = torch.rand(1, 7)\n",
    "X@Y.T"
   ]
  },
  {
   "cell_type": "code",
   "execution_count": 16,
   "id": "eb878078-d6d8-4019-9242-0ee5da8b81f5",
   "metadata": {},
   "outputs": [],
   "source": [
    "# 5\n",
    "torch.cuda.manual_seed(1234)"
   ]
  },
  {
   "cell_type": "code",
   "execution_count": 29,
   "id": "cf20c6be-d0f1-40a8-b466-f7077b1116af",
   "metadata": {},
   "outputs": [
    {
     "name": "stdout",
     "output_type": "stream",
     "text": [
      "tensor([[0.0290, 0.4019, 0.2598],\n",
      "        [0.3666, 0.0583, 0.7006]], device='cuda:0')\n",
      "tensor([[0.0518, 0.4681, 0.6738],\n",
      "        [0.3315, 0.7837, 0.5631]], device='cuda:0')\n"
     ]
    }
   ],
   "source": [
    "# 6\n",
    "device = \"cuda\" if torch.cuda.is_available() else \"cpu\"\n",
    "\n",
    "torch.manual_seed(1234)\n",
    "X = torch.rand(2, 3).to(device)\n",
    "Y = torch.rand(2, 3).to(device)\n",
    "\n",
    "print(X)\n",
    "print(Y)"
   ]
  },
  {
   "cell_type": "code",
   "execution_count": 32,
   "id": "ca858111-70c6-4ab8-ae6c-1f94bab31c2c",
   "metadata": {},
   "outputs": [
    {
     "data": {
      "text/plain": [
       "tensor([[0.3647, 0.4709],\n",
       "        [0.5184, 0.5617]], device='cuda:0')"
      ]
     },
     "execution_count": 32,
     "metadata": {},
     "output_type": "execute_result"
    }
   ],
   "source": [
    "# 7\n",
    "Z = X@Y.T\n",
    "Z"
   ]
  },
  {
   "cell_type": "code",
   "execution_count": 35,
   "id": "9b92057c-b9da-48a9-a53b-aa3b0862c61b",
   "metadata": {},
   "outputs": [
    {
     "name": "stdout",
     "output_type": "stream",
     "text": [
      "tensor(0.3647, device='cuda:0') tensor(0.5617, device='cuda:0')\n"
     ]
    }
   ],
   "source": [
    "# 8\n",
    "print(Z.min(), Z.max())"
   ]
  },
  {
   "cell_type": "code",
   "execution_count": 36,
   "id": "b6a1efda-90e9-471d-a172-e8c90f6a99b9",
   "metadata": {},
   "outputs": [
    {
     "name": "stdout",
     "output_type": "stream",
     "text": [
      "tensor(0, device='cuda:0') tensor(3, device='cuda:0')\n"
     ]
    }
   ],
   "source": [
    "# 9\n",
    "print(Z.argmin(), Z.argmax())"
   ]
  },
  {
   "cell_type": "code",
   "execution_count": 38,
   "id": "d0800080-9979-4f7a-9a2d-04f4223cfce7",
   "metadata": {},
   "outputs": [
    {
     "data": {
      "text/plain": [
       "tensor(3, device='cuda:0')"
      ]
     },
     "execution_count": 38,
     "metadata": {},
     "output_type": "execute_result"
    }
   ],
   "source": [
    "torch.argmax(Z)"
   ]
  },
  {
   "cell_type": "code",
   "execution_count": 39,
   "id": "dfa7e9d8-016b-4d08-9f3e-025193447e64",
   "metadata": {},
   "outputs": [
    {
     "name": "stdout",
     "output_type": "stream",
     "text": [
      "tensor([[[[0.5349, 0.1988, 0.6592, 0.6569, 0.2328, 0.4251, 0.2071, 0.6297,\n",
      "           0.3653, 0.8513]]]]) torch.Size([1, 1, 1, 10])\n",
      "tensor([0.5349, 0.1988, 0.6592, 0.6569, 0.2328, 0.4251, 0.2071, 0.6297, 0.3653,\n",
      "        0.8513]) torch.Size([10])\n"
     ]
    }
   ],
   "source": [
    "# 10\n",
    "torch.manual_seed(7)\n",
    "X = torch.rand(1, 1, 1, 10)\n",
    "Y = X.squeeze()\n",
    "\n",
    "print(X, X.shape)\n",
    "print(Y, Y.shape)\n"
   ]
  },
  {
   "cell_type": "code",
   "execution_count": null,
   "id": "5d9b49cc-3ea2-4e23-9c93-465fe8de88c7",
   "metadata": {},
   "outputs": [],
   "source": []
  }
 ],
 "metadata": {
  "kernelspec": {
   "display_name": "Python 3 (ipykernel)",
   "language": "python",
   "name": "python3"
  },
  "language_info": {
   "codemirror_mode": {
    "name": "ipython",
    "version": 3
   },
   "file_extension": ".py",
   "mimetype": "text/x-python",
   "name": "python",
   "nbconvert_exporter": "python",
   "pygments_lexer": "ipython3",
   "version": "3.10.11"
  }
 },
 "nbformat": 4,
 "nbformat_minor": 5
}
